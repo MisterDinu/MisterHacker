{
 "cells": [
  {
   "cell_type": "code",
   "execution_count": 2,
   "metadata": {},
   "outputs": [],
   "source": [
    "# Dependencies\n",
    "import requests\n",
    "from config import api_key\n",
    "from pprint import pprint\n",
    "# Save config information.\n"
   ]
  },
  {
   "cell_type": "code",
   "execution_count": 3,
   "metadata": {},
   "outputs": [
    {
     "name": "stdout",
     "output_type": "stream",
     "text": [
      "<Response [200]>\n"
     ]
    }
   ],
   "source": [
    "# Build query URL and request your results in Celsius\n",
    "url= \"http://api.openweathermap.org/data/2.5/weather?\"\n",
    "city= \"Bujumbura\"\n",
    "query_url = url + \"appid=\" + api_key + \"&q=\" + city + \"&units=metric\"\n",
    "\n",
    "# Get weather data\n",
    "res_weather=requests.get(query_url)\n",
    "print(res_weather)"
   ]
  },
  {
   "cell_type": "code",
   "execution_count": 4,
   "metadata": {},
   "outputs": [
    {
     "name": "stdout",
     "output_type": "stream",
     "text": [
      "{'base': 'stations',\n",
      " 'clouds': {'all': 9},\n",
      " 'cod': 200,\n",
      " 'coord': {'lat': -3.3822, 'lon': 29.3644},\n",
      " 'dt': 1689211545,\n",
      " 'id': 425378,\n",
      " 'main': {'feels_like': 22.73,\n",
      "          'grnd_level': 925,\n",
      "          'humidity': 61,\n",
      "          'pressure': 1014,\n",
      "          'sea_level': 1014,\n",
      "          'temp': 22.8,\n",
      "          'temp_max': 22.8,\n",
      "          'temp_min': 22.8},\n",
      " 'name': 'Bujumbura',\n",
      " 'sys': {'country': 'BI', 'sunrise': 1689221392, 'sunset': 1689264370},\n",
      " 'timezone': 7200,\n",
      " 'visibility': 10000,\n",
      " 'weather': [{'description': 'clear sky',\n",
      "              'icon': '01n',\n",
      "              'id': 800,\n",
      "              'main': 'Clear'}],\n",
      " 'wind': {'deg': 146, 'gust': 3.98, 'speed': 1.81}}\n"
     ]
    }
   ],
   "source": [
    "# Get temperature from JSON response\n",
    "res_json=res_weather.json()\n",
    "pprint(res_json)"
   ]
  },
  {
   "cell_type": "code",
   "execution_count": 6,
   "metadata": {},
   "outputs": [
    {
     "name": "stdout",
     "output_type": "stream",
     "text": [
      "The temperature in Bujumbura is 22.8 C.\n"
     ]
    }
   ],
   "source": [
    "# Report temperature\n",
    "print(f'The temperature in Bujumbura is {res_json[\"main\"][\"temp\"]} C.')"
   ]
  },
  {
   "cell_type": "code",
   "execution_count": 5,
   "metadata": {},
   "outputs": [
    {
     "name": "stdout",
     "output_type": "stream",
     "text": [
      "The temperature in Bujumbura is 21.75C or 71.15F.\n"
     ]
    }
   ],
   "source": [
    "# BONUS\n",
    "\n",
    "# use list of units\n",
    "\n",
    "# set up list to hold two different temperatures\n",
    "temperature_list=[]\n",
    "\n",
    "# loop through the list of units and append them to temperatures list\n",
    "\n",
    "    # Build query URL based on current element in units\n",
    "fahrenheit_url = url + \"appid=\" + api_key + \"&q=\" + city + \"&units=imperial\"\n",
    "res_f=requests.get(fahrenheit_url)\n",
    "res_f_json=res_f.json()\n",
    "\n",
    "    # Get weather data\n",
    "\n",
    "\n",
    "    # Get temperature from JSON response\n",
    "\n",
    "\n",
    "\n",
    "# Report temperatures by accessing each element in the list\n"
   ]
  }
 ],
 "metadata": {
  "kernelspec": {
   "display_name": "Python 3 (ipykernel)",
   "language": "python",
   "name": "python3"
  },
  "language_info": {
   "codemirror_mode": {
    "name": "ipython",
    "version": 3
   },
   "file_extension": ".py",
   "mimetype": "text/x-python",
   "name": "python",
   "nbconvert_exporter": "python",
   "pygments_lexer": "ipython3",
   "version": "3.10.9"
  },
  "varInspector": {
   "cols": {
    "lenName": 16,
    "lenType": 16,
    "lenVar": 40
   },
   "kernels_config": {
    "python": {
     "delete_cmd_postfix": "",
     "delete_cmd_prefix": "del ",
     "library": "var_list.py",
     "varRefreshCmd": "print(var_dic_list())"
    },
    "r": {
     "delete_cmd_postfix": ") ",
     "delete_cmd_prefix": "rm(",
     "library": "var_list.r",
     "varRefreshCmd": "cat(var_dic_list()) "
    }
   },
   "types_to_exclude": [
    "module",
    "function",
    "builtin_function_or_method",
    "instance",
    "_Feature"
   ],
   "window_display": false
  }
 },
 "nbformat": 4,
 "nbformat_minor": 2
}
