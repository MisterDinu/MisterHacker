{
 "cells": [
  {
   "cell_type": "code",
   "execution_count": 11,
   "metadata": {},
   "outputs": [],
   "source": [
    "# Dependencies\n",
    "import json\n",
    "import requests\n",
    "import pandas as pd\n",
    "from pprint import pprint\n",
    "import traceback"
   ]
  },
  {
   "cell_type": "code",
   "execution_count": 7,
   "metadata": {},
   "outputs": [
    {
     "name": "stdout",
     "output_type": "stream",
     "text": [
      "{'count': 1,\n",
      " 'next': None,\n",
      " 'previous': None,\n",
      " 'results': [{'birth_year': '29BBY',\n",
      "              'created': '2014-12-10T16:49:14.582000Z',\n",
      "              'edited': '2014-12-20T21:17:50.334000Z',\n",
      "              'eye_color': 'brown',\n",
      "              'films': ['https://swapi.dev/api/films/1/',\n",
      "                        'https://swapi.dev/api/films/2/',\n",
      "                        'https://swapi.dev/api/films/3/'],\n",
      "              'gender': 'male',\n",
      "              'hair_color': 'brown',\n",
      "              'height': '180',\n",
      "              'homeworld': 'https://swapi.dev/api/planets/22/',\n",
      "              'mass': '80',\n",
      "              'name': 'Han Solo',\n",
      "              'skin_color': 'fair',\n",
      "              'species': [],\n",
      "              'starships': ['https://swapi.dev/api/starships/10/',\n",
      "                            'https://swapi.dev/api/starships/22/'],\n",
      "              'url': 'https://swapi.dev/api/people/14/',\n",
      "              'vehicles': []}]}\n"
     ]
    }
   ],
   "source": [
    "# List of character\n",
    "search_characters = ['R2-D2', 'Darth Vader', 'Godzilla', 'Luke Skywalker', 'Frodo',\n",
    "                     'Boba Fett', 'Iron Man', 'Jon Snow', 'Han Solo']\n",
    "\n",
    "# Set url for API\n",
    "url = 'https://swapi.dev/api/people/?search='\n",
    "\n",
    "# Set empty lists to hold characters height and mass\n",
    "height = []\n",
    "mass = []\n",
    "\n",
    "for each_character in search_characters:\n",
    "    res_json = requests.get(url + each_character).json()\n",
    "\n",
    "pprint(res_json)\n"
   ]
  },
  {
   "cell_type": "code",
   "execution_count": 13,
   "metadata": {},
   "outputs": [
    {
     "name": "stdout",
     "output_type": "stream",
     "text": [
      "R2-D2 has a height of 96, and a mass of 32\n",
      "Darth Vader has a height of 202, and a mass of 136\n",
      "Godzilla not found\n",
      "Luke Skywalker has a height of 172, and a mass of 77\n",
      "Frodo not found\n",
      "Boba Fett has a height of 183, and a mass of 78.2\n",
      "Iron Man not found\n",
      "Jon Snow not found\n",
      "Han Solo has a height of 180, and a mass of 80\n"
     ]
    }
   ],
   "source": [
    "\n",
    "\n",
    "# Loop through each character\n",
    "\n",
    "for each_character in search_characters:\n",
    "    try:\n",
    "        res_json = requests.get(url + each_character).json()\n",
    "    # Create search query, make request and store in json\n",
    "        each_height=res_json['results'][0]['height']\n",
    "        each_mass=res_json['results'][0]['mass']\n",
    "        height.append(each_height)\n",
    "        mass.append(each_mass)\n",
    "        print(f'{each_character} has a height of {each_height}, and a mass of {each_mass}')\n",
    "    # Try to grab the height and mass of characters if they are available in the Star Wars API\n",
    "\n",
    "    except:\n",
    "        print(f'{each_character} not found')\n",
    "    # Handle exceptions for a character that is not available in the Star Wars API\n"
   ]
  },
  {
   "cell_type": "code",
   "execution_count": 3,
   "metadata": {},
   "outputs": [
    {
     "data": {
      "text/html": [
       "<div>\n",
       "<style scoped>\n",
       "    .dataframe tbody tr th:only-of-type {\n",
       "        vertical-align: middle;\n",
       "    }\n",
       "\n",
       "    .dataframe tbody tr th {\n",
       "        vertical-align: top;\n",
       "    }\n",
       "\n",
       "    .dataframe thead th {\n",
       "        text-align: right;\n",
       "    }\n",
       "</style>\n",
       "<table border=\"1\" class=\"dataframe\">\n",
       "  <thead>\n",
       "    <tr style=\"text-align: right;\">\n",
       "      <th></th>\n",
       "      <th>character</th>\n",
       "      <th>height</th>\n",
       "      <th>mass</th>\n",
       "    </tr>\n",
       "  </thead>\n",
       "  <tbody>\n",
       "    <tr>\n",
       "      <th>0</th>\n",
       "      <td>R2-D2</td>\n",
       "      <td>96</td>\n",
       "      <td>32</td>\n",
       "    </tr>\n",
       "    <tr>\n",
       "      <th>1</th>\n",
       "      <td>Darth Vader</td>\n",
       "      <td>202</td>\n",
       "      <td>136</td>\n",
       "    </tr>\n",
       "    <tr>\n",
       "      <th>2</th>\n",
       "      <td>Luke Skywalker</td>\n",
       "      <td>172</td>\n",
       "      <td>77</td>\n",
       "    </tr>\n",
       "    <tr>\n",
       "      <th>3</th>\n",
       "      <td>Boba Fett</td>\n",
       "      <td>183</td>\n",
       "      <td>78.2</td>\n",
       "    </tr>\n",
       "    <tr>\n",
       "      <th>4</th>\n",
       "      <td>Han Solo</td>\n",
       "      <td>180</td>\n",
       "      <td>80</td>\n",
       "    </tr>\n",
       "  </tbody>\n",
       "</table>\n",
       "</div>"
      ],
      "text/plain": [
       "        character height  mass\n",
       "0           R2-D2     96    32\n",
       "1     Darth Vader    202   136\n",
       "2  Luke Skywalker    172    77\n",
       "3       Boba Fett    183  78.2\n",
       "4        Han Solo    180    80"
      ]
     },
     "execution_count": 3,
     "metadata": {},
     "output_type": "execute_result"
    }
   ],
   "source": [
    "# Create DataFrame\n",
    "characters_df = [{\n",
    "    \n",
    "}]"
   ]
  },
  {
   "cell_type": "code",
   "execution_count": null,
   "metadata": {},
   "outputs": [],
   "source": []
  }
 ],
 "metadata": {
  "kernelspec": {
   "display_name": "Python 3 (ipykernel)",
   "language": "python",
   "name": "python3"
  },
  "language_info": {
   "codemirror_mode": {
    "name": "ipython",
    "version": 3
   },
   "file_extension": ".py",
   "mimetype": "text/x-python",
   "name": "python",
   "nbconvert_exporter": "python",
   "pygments_lexer": "ipython3",
   "version": "3.10.9"
  },
  "latex_envs": {
   "LaTeX_envs_menu_present": true,
   "autoclose": false,
   "autocomplete": true,
   "bibliofile": "biblio.bib",
   "cite_by": "apalike",
   "current_citInitial": 1,
   "eqLabelWithNumbers": true,
   "eqNumInitial": 1,
   "hotkeys": {
    "equation": "Ctrl-E",
    "itemize": "Ctrl-I"
   },
   "labels_anchors": false,
   "latex_user_defs": false,
   "report_style_numbering": false,
   "user_envs_cfg": false
  }
 },
 "nbformat": 4,
 "nbformat_minor": 2
}
