{
 "cells": [
  {
   "cell_type": "code",
   "execution_count": 1,
   "metadata": {},
   "outputs": [],
   "source": [
    "import pandas as pd\n"
   ]
  },
  {
   "cell_type": "code",
   "execution_count": 2,
   "metadata": {},
   "outputs": [],
   "source": [
    "import matplotlib.pyplot as plt"
   ]
  },
  {
   "cell_type": "code",
   "execution_count": 3,
   "metadata": {},
   "outputs": [],
   "source": [
    "import scipy.stats as st\n"
   ]
  },
  {
   "cell_type": "code",
   "execution_count": 4,
   "metadata": {},
   "outputs": [],
   "source": [
    "import numpy as np\n"
   ]
  },
  {
   "cell_type": "code",
   "execution_count": 5,
   "metadata": {},
   "outputs": [],
   "source": [
    "from sklearn import datasets"
   ]
  },
  {
   "cell_type": "code",
   "execution_count": 11,
   "metadata": {},
   "outputs": [],
   "source": [
    "\n",
    "# x_data=np.arange(0,5, 0.8) \n",
    "# x_data\n",
    "\n",
    "# CREATE A LIST WITH INFO TO CREATE A DF\n",
    "names=[\"John\", \"Paul\", \"George\", \"Ringo\"]\n",
    "instruments=[\"Vocals\", \"Bass\", \"Guitar\", \"Drums\"]\n"
   ]
  },
  {
   "cell_type": "code",
   "execution_count": 12,
   "metadata": {},
   "outputs": [
    {
     "name": "stdout",
     "output_type": "stream",
     "text": [
      "0      John\n",
      "1      Paul\n",
      "2    George\n",
      "3     Ringo\n",
      "dtype: object\n",
      "0    Vocals\n",
      "1      Bass\n",
      "2    Guitar\n",
      "3     Drums\n",
      "dtype: object\n"
     ]
    }
   ],
   "source": [
    "# ex=[np.exp(each_element) for each_element in x_data]\n",
    "# ex\n",
    "\n",
    "# CREATE SERIES THAT REFERENCE TO THAT LISTS\n",
    "beatle_names=pd.Series(names)\n",
    "beatle_instruments=pd.Series(instruments)\n",
    "\n",
    "print(beatle_names)\n",
    "print(beatle_instruments)"
   ]
  },
  {
   "cell_type": "code",
   "execution_count": 14,
   "metadata": {},
   "outputs": [
    {
     "data": {
      "text/html": [
       "<div>\n",
       "<style scoped>\n",
       "    .dataframe tbody tr th:only-of-type {\n",
       "        vertical-align: middle;\n",
       "    }\n",
       "\n",
       "    .dataframe tbody tr th {\n",
       "        vertical-align: top;\n",
       "    }\n",
       "\n",
       "    .dataframe thead th {\n",
       "        text-align: right;\n",
       "    }\n",
       "</style>\n",
       "<table border=\"1\" class=\"dataframe\">\n",
       "  <thead>\n",
       "    <tr style=\"text-align: right;\">\n",
       "      <th></th>\n",
       "      <th>Names of each Beatle</th>\n",
       "      <th>Instrument of each Beatle</th>\n",
       "    </tr>\n",
       "  </thead>\n",
       "  <tbody>\n",
       "    <tr>\n",
       "      <th>0</th>\n",
       "      <td>John</td>\n",
       "      <td>Vocals</td>\n",
       "    </tr>\n",
       "    <tr>\n",
       "      <th>1</th>\n",
       "      <td>Paul</td>\n",
       "      <td>Bass</td>\n",
       "    </tr>\n",
       "    <tr>\n",
       "      <th>2</th>\n",
       "      <td>George</td>\n",
       "      <td>Guitar</td>\n",
       "    </tr>\n",
       "    <tr>\n",
       "      <th>3</th>\n",
       "      <td>Ringo</td>\n",
       "      <td>Drums</td>\n",
       "    </tr>\n",
       "  </tbody>\n",
       "</table>\n",
       "</div>"
      ],
      "text/plain": [
       "  Names of each Beatle Instrument of each Beatle\n",
       "0                 John                    Vocals\n",
       "1                 Paul                      Bass\n",
       "2               George                    Guitar\n",
       "3                Ringo                     Drums"
      ]
     },
     "execution_count": 14,
     "metadata": {},
     "output_type": "execute_result"
    }
   ],
   "source": [
    "# print(type(ex))\n",
    "\n",
    "# CREATE DATA FRAME FROM SERIES\n",
    "my_table=pd.DataFrame({\"Names of each Beatle\": beatle_names, \"Instrument of each Beatle\": beatle_instruments})\n",
    "my_table"
   ]
  },
  {
   "cell_type": "code",
   "execution_count": 15,
   "metadata": {},
   "outputs": [
    {
     "data": {
      "text/html": [
       "<div>\n",
       "<style scoped>\n",
       "    .dataframe tbody tr th:only-of-type {\n",
       "        vertical-align: middle;\n",
       "    }\n",
       "\n",
       "    .dataframe tbody tr th {\n",
       "        vertical-align: top;\n",
       "    }\n",
       "\n",
       "    .dataframe thead th {\n",
       "        text-align: right;\n",
       "    }\n",
       "</style>\n",
       "<table border=\"1\" class=\"dataframe\">\n",
       "  <thead>\n",
       "    <tr style=\"text-align: right;\">\n",
       "      <th></th>\n",
       "      <th>Names of each Beatle</th>\n",
       "      <th>Instrument of each Beatle</th>\n",
       "    </tr>\n",
       "  </thead>\n",
       "  <tbody>\n",
       "    <tr>\n",
       "      <th>0</th>\n",
       "      <td>John</td>\n",
       "      <td>Vocals</td>\n",
       "    </tr>\n",
       "    <tr>\n",
       "      <th>1</th>\n",
       "      <td>Paul</td>\n",
       "      <td>Bass</td>\n",
       "    </tr>\n",
       "    <tr>\n",
       "      <th>2</th>\n",
       "      <td>George</td>\n",
       "      <td>Guitar</td>\n",
       "    </tr>\n",
       "    <tr>\n",
       "      <th>3</th>\n",
       "      <td>Ringo</td>\n",
       "      <td>Drums</td>\n",
       "    </tr>\n",
       "  </tbody>\n",
       "</table>\n",
       "</div>"
      ],
      "text/plain": [
       "  Names of each Beatle Instrument of each Beatle\n",
       "0                 John                    Vocals\n",
       "1                 Paul                      Bass\n",
       "2               George                    Guitar\n",
       "3                Ringo                     Drums"
      ]
     },
     "execution_count": 15,
     "metadata": {},
     "output_type": "execute_result"
    }
   ],
   "source": [
    "# sin=np.sin(ex)\n",
    "# sin\n",
    "# cos =np.cos(ex)\n",
    "# cos\n",
    "\n",
    "# YOU CAN ALSO CREATE DATA FRAME FROM LISTS, SO LETS USE THE LISTS USED TO CREATE THE SERIES\n",
    "my_table_list=pd.DataFrame({\"Names of each Beatle\":names,\"Instrument of each Beatle\": instruments})\n",
    "my_table_list"
   ]
  },
  {
   "cell_type": "code",
   "execution_count": 18,
   "metadata": {},
   "outputs": [
    {
     "data": {
      "text/html": [
       "<div>\n",
       "<style scoped>\n",
       "    .dataframe tbody tr th:only-of-type {\n",
       "        vertical-align: middle;\n",
       "    }\n",
       "\n",
       "    .dataframe tbody tr th {\n",
       "        vertical-align: top;\n",
       "    }\n",
       "\n",
       "    .dataframe thead th {\n",
       "        text-align: right;\n",
       "    }\n",
       "</style>\n",
       "<table border=\"1\" class=\"dataframe\">\n",
       "  <thead>\n",
       "    <tr style=\"text-align: right;\">\n",
       "      <th></th>\n",
       "      <th>Name</th>\n",
       "      <th>Instrument</th>\n",
       "      <th>Songs</th>\n",
       "    </tr>\n",
       "  </thead>\n",
       "  <tbody>\n",
       "    <tr>\n",
       "      <th>0</th>\n",
       "      <td>John</td>\n",
       "      <td>Vocals</td>\n",
       "      <td>30</td>\n",
       "    </tr>\n",
       "    <tr>\n",
       "      <th>1</th>\n",
       "      <td>Paul</td>\n",
       "      <td>Bass</td>\n",
       "      <td>21</td>\n",
       "    </tr>\n",
       "    <tr>\n",
       "      <th>2</th>\n",
       "      <td>George</td>\n",
       "      <td>Guitar</td>\n",
       "      <td>10</td>\n",
       "    </tr>\n",
       "    <tr>\n",
       "      <th>3</th>\n",
       "      <td>Ringo</td>\n",
       "      <td>Drums</td>\n",
       "      <td>3</td>\n",
       "    </tr>\n",
       "  </tbody>\n",
       "</table>\n",
       "</div>"
      ],
      "text/plain": [
       "     Name Instrument Songs\n",
       "0    John     Vocals    30\n",
       "1    Paul       Bass    21\n",
       "2  George     Guitar    10\n",
       "3   Ringo      Drums     3"
      ]
     },
     "execution_count": 18,
     "metadata": {},
     "output_type": "execute_result"
    }
   ],
   "source": [
    "# A mayor cantidad de datos, la línea de la función plot, se vuelve más suavizada.\n",
    "# plt.plot(ex, sin)\n",
    "# plt.plot(ex, cos)\n",
    "\n",
    "# plt.show()\n",
    "\n",
    "# AND ANOTHER WAY TO CREATE A DF IS USING A DICTIONARIE\n",
    "beatles_dict=({\"Name\":\"John\", \"Instrument\":\"Vocals\", \"Songs\":\"30\"}, \n",
    "            {\"Name\":\"Paul\", \"Instrument\":\"Bass\", \"Songs\":\"21\"},\n",
    "            {\"Name\":\"George\", \"Instrument\":\"Guitar\", \"Songs\":\"10\"},\n",
    "            {\"Name\":\"Ringo\", \"Instrument\":\"Drums\", \"Songs\":\"3\"})\n",
    "\n",
    "my_table_dict=pd.DataFrame(beatles_dict)\n",
    "my_table_dict"
   ]
  },
  {
   "cell_type": "code",
   "execution_count": null,
   "metadata": {},
   "outputs": [],
   "source": []
  },
  {
   "cell_type": "code",
   "execution_count": null,
   "metadata": {},
   "outputs": [],
   "source": []
  }
 ],
 "metadata": {
  "kernelspec": {
   "display_name": "base",
   "language": "python",
   "name": "python3"
  },
  "language_info": {
   "codemirror_mode": {
    "name": "ipython",
    "version": 3
   },
   "file_extension": ".py",
   "mimetype": "text/x-python",
   "name": "python",
   "nbconvert_exporter": "python",
   "pygments_lexer": "ipython3",
   "version": "3.10.11"
  },
  "orig_nbformat": 4
 },
 "nbformat": 4,
 "nbformat_minor": 2
}
